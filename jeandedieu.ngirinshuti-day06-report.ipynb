{
 "cells": [
  {
   "cell_type": "markdown",
   "id": "4649c793-c87e-4a61-811a-21e153991716",
   "metadata": {},
   "source": [
    "# Question 1\n",
    "---"
   ]
  },
  {
   "cell_type": "markdown",
   "id": "15640536-f535-4a44-b496-6be34b78e9c7",
   "metadata": {},
   "source": [
    "## Summing Odd "
   ]
  },
  {
   "cell_type": "code",
   "execution_count": 1,
   "id": "b119c88f-503d-448c-a022-ab7b6ef2da16",
   "metadata": {},
   "outputs": [
    {
     "name": "stdin",
     "output_type": "stream",
     "text": [
      "Enter the value of n: 5\n"
     ]
    },
    {
     "name": "stdout",
     "output_type": "stream",
     "text": [
      "The sum is 10\n"
     ]
    }
   ],
   "source": [
    "n = int(input(\"Enter the value of n:\"))\n",
    "sum = 0 \n",
    "for i in range(1, n , 2):\n",
    "    sum += (i + 3)\n",
    "print(\"The sum is {}\".format(sum))"
   ]
  },
  {
   "cell_type": "markdown",
   "id": "68cb5202-a6cf-45f0-a1d3-ee65cb2d4e29",
   "metadata": {},
   "source": [
    "### Product "
   ]
  },
  {
   "cell_type": "code",
   "execution_count": 3,
   "id": "65e7866d-af02-4209-adab-3b45330afdf0",
   "metadata": {},
   "outputs": [
    {
     "name": "stdin",
     "output_type": "stream",
     "text": [
      "Enter the value of n: 5\n"
     ]
    },
    {
     "name": "stdout",
     "output_type": "stream",
     "text": [
      "The Product of even terms for n which is equal to 5  is 105 \n"
     ]
    }
   ],
   "source": [
    "n = int(input(\"Enter the value of n:\"))\n",
    "prod = 3 \n",
    "for i in range(2, n , 2):\n",
    "    prod = prod * (i + 3)\n",
    "print(\"The Product of even terms for n which is equal to {}  is {} \".format(n,prod))"
   ]
  },
  {
   "cell_type": "markdown",
   "id": "8a2fc39d-0839-4511-9281-fbe3508edadb",
   "metadata": {},
   "source": [
    "---\n",
    "# Question 2\n",
    "---"
   ]
  },
  {
   "cell_type": "code",
   "execution_count": 5,
   "id": "0ccb7762-cb0c-4428-9a7a-3f3557bf8b2d",
   "metadata": {},
   "outputs": [
    {
     "name": "stdin",
     "output_type": "stream",
     "text": [
      "Please Enter the day: 1\n"
     ]
    },
    {
     "name": "stdout",
     "output_type": "stream",
     "text": [
      "Monday - Working day\n"
     ]
    }
   ],
   "source": [
    "days = int(input(\"Please Enter the day:\"))\n",
    "if days == 0:\n",
    "    print(\"Sunday - Weekend\")\n",
    "elif days == 1:\n",
    "    print(\"Monday - Working day\")\n",
    "elif days == 2:\n",
    "    print(\"Tuesday - Working day\")\n",
    "elif days == 3:\n",
    "    print(\"Wednesday - Working day\")\n",
    "elif days == 4:\n",
    "    print(\"Thursday - Working day\")\n",
    "elif days == 5:\n",
    "    print(\"Thursday - Working day\")\n",
    "elif days == 6:\n",
    "    print(\"Saturday - Weekend\")\n",
    "else:  \n",
    "     print(\"The day must be between  0 and 6 \")\n"
   ]
  },
  {
   "cell_type": "markdown",
   "id": "96600131-f2c6-4ebe-a11e-19f9db54be57",
   "metadata": {},
   "source": [
    "---\n",
    "# Question 3\n",
    "---"
   ]
  },
  {
   "cell_type": "code",
   "execution_count": 7,
   "id": "78508aaf-f99d-467c-afa6-f24f1f1e131d",
   "metadata": {},
   "outputs": [
    {
     "name": "stdin",
     "output_type": "stream",
     "text": [
      "Please Enter the month:  February\n"
     ]
    },
    {
     "name": "stdout",
     "output_type": "stream",
     "text": [
      "Month of February has 28 days\n"
     ]
    }
   ],
   "source": [
    "month = str(input(\"Please Enter the month: \"))\n",
    "days_in_month = {\n",
    "    \"January\": 31, \"February\": 28, \"March\": 31, \"April\": 30, \"May\": 31,\n",
    "    \"June\": 30, \"July\": 31, \"August\": 31, \"September\": 30, \"October\": 31,\n",
    "    \"November\": 30, \"December\": 31\n",
    "}\n",
    "\n",
    "if month in days_in_month:\n",
    "    print(\"Month of {} has {} days\".format(month, days_in_month[month]))\n",
    "else:\n",
    "    print(\"Invalid month entered. Please enter a valid month name.\")\n"
   ]
  },
  {
   "cell_type": "markdown",
   "id": "af00088e-3ff1-475b-adf1-c9a20bbe04db",
   "metadata": {},
   "source": [
    "---\n",
    "# Question 4 \n",
    "---"
   ]
  },
  {
   "cell_type": "markdown",
   "id": "2cc2718f-0124-4e10-bd7b-e10f1b1ac7b2",
   "metadata": {},
   "source": [
    "### For Loop"
   ]
  },
  {
   "cell_type": "code",
   "execution_count": 9,
   "id": "5bab0f97-cd4e-4227-bcf6-f52980fabefa",
   "metadata": {},
   "outputs": [
    {
     "name": "stdout",
     "output_type": "stream",
     "text": [
      "Jean de Dieu\n",
      "Jean de Dieu\n",
      "Jean de Dieu\n"
     ]
    }
   ],
   "source": [
    "i = 0\n",
    "for i in range(3):\n",
    "    print(\"Jean de Dieu\")"
   ]
  },
  {
   "cell_type": "markdown",
   "id": "4b9be8bd-1de6-4390-98e5-454970e2a089",
   "metadata": {},
   "source": [
    "### While Loop"
   ]
  },
  {
   "cell_type": "code",
   "execution_count": 13,
   "id": "786f358e-81e9-4e1c-a62b-7b32f74c5f8c",
   "metadata": {},
   "outputs": [
    {
     "name": "stdout",
     "output_type": "stream",
     "text": [
      "Jean de Dieu\n",
      "Jean de Dieu\n",
      "Jean de Dieu\n"
     ]
    }
   ],
   "source": [
    "i = 1\n",
    "while i <= 3:\n",
    "    print(\"Jean de Dieu\")\n",
    "    i = i + 1\n"
   ]
  },
  {
   "cell_type": "markdown",
   "id": "3110b1da-af5c-40ac-901b-5dfc68b344fb",
   "metadata": {},
   "source": [
    "---\n",
    "# Question 5\n",
    "---"
   ]
  },
  {
   "cell_type": "markdown",
   "id": "620d3447-a548-4ecb-987c-e61a94612241",
   "metadata": {},
   "source": [
    "###  Fibonacci sequence"
   ]
  },
  {
   "cell_type": "code",
   "execution_count": 30,
   "id": "de8e656e-0e81-41f9-a9b3-5f819de4c2e3",
   "metadata": {},
   "outputs": [
    {
     "name": "stdin",
     "output_type": "stream",
     "text": [
      "Enter the first number (a0):  1\n",
      "Enter the second number (a1):  2\n"
     ]
    },
    {
     "name": "stdout",
     "output_type": "stream",
     "text": [
      "The first 15 terms of the Fibonacci sequence are:\n",
      "1\n",
      "2\n",
      "3\n",
      "5\n",
      "8\n",
      "13\n",
      "21\n",
      "34\n",
      "55\n",
      "89\n",
      "144\n",
      "233\n",
      "377\n",
      "610\n",
      "987\n"
     ]
    }
   ],
   "source": [
    "a0 = int(input(\"Enter the first number (a0): \"))\n",
    "a1 = int(input(\"Enter the second number (a1): \"))\n",
    "\n",
    "fib0 = a0\n",
    "fib1 = a1\n",
    "print(\"The first 15 terms of the Fibonacci sequence are:\")\n",
    "print(fib0)\n",
    "print(fib1)\n",
    "i = 2\n",
    "while i < 15: \n",
    "    fib_next = fib0 + fib1\n",
    "    print(fib_next)\n",
    "    fib0, fib1 = fib1, fib_next\n",
    "    i += 1\n"
   ]
  },
  {
   "cell_type": "markdown",
   "id": "98cb9116-0e8d-424a-929b-8bb3308c4b04",
   "metadata": {},
   "source": [
    "---\n",
    "# Question 6 \n",
    "---"
   ]
  },
  {
   "cell_type": "code",
   "execution_count": 38,
   "id": "dbf82530-219a-44b9-853e-435c9a547c1b",
   "metadata": {},
   "outputs": [
    {
     "name": "stdin",
     "output_type": "stream",
     "text": [
      "Enter the first number (x0):  1\n",
      "Enter the second number (x1):  2\n"
     ]
    },
    {
     "name": "stdout",
     "output_type": "stream",
     "text": [
      "The  first 30 terms of the sequence x_next = 0.5 * (x1 + 6 * x0) are:\n",
      "1\n",
      "2\n",
      "4.0\n",
      "8.0\n",
      "16.0\n",
      "32.0\n",
      "64.0\n",
      "128.0\n",
      "256.0\n",
      "512.0\n",
      "1024.0\n",
      "2048.0\n",
      "4096.0\n",
      "8192.0\n",
      "16384.0\n",
      "32768.0\n",
      "65536.0\n",
      "131072.0\n",
      "262144.0\n",
      "524288.0\n",
      "1048576.0\n",
      "2097152.0\n",
      "4194304.0\n",
      "8388608.0\n",
      "16777216.0\n",
      "33554432.0\n",
      "67108864.0\n",
      "134217728.0\n",
      "268435456.0\n",
      "536870912.0\n"
     ]
    }
   ],
   "source": [
    "x0 = int(input(\"Enter the first number (x0): \"))\n",
    "x1 = int(input(\"Enter the second number (x1): \"))\n",
    "print(\"The  first 30 terms of the sequence x_next = 0.5 * (x1 + 6 * x0) are:\")\n",
    "print(x0)\n",
    "print(x1)\n",
    "i = 2\n",
    "while i < 30: \n",
    "    x_next = x_next = 0.5 * (x1 + 6 * x0)\n",
    "    print(x_next)\n",
    "    x0, x1 = x1, x_next\n",
    "    i += 1"
   ]
  },
  {
   "cell_type": "markdown",
   "id": "0e22be36-86b9-461b-be97-ecd31ea91b7f",
   "metadata": {},
   "source": [
    "---\n",
    "# Question 7\n",
    "---"
   ]
  },
  {
   "cell_type": "code",
   "execution_count": 50,
   "id": "05339df8-0c1d-4612-81d5-7a89a3fd8d45",
   "metadata": {},
   "outputs": [
    {
     "name": "stdin",
     "output_type": "stream",
     "text": [
      "Enter the year you want to check: 2025\n"
     ]
    },
    {
     "name": "stdout",
     "output_type": "stream",
     "text": [
      "The year of is not leap year\n"
     ]
    }
   ],
   "source": [
    "year = int(input(\"Enter the year you want to check:\"))\n",
    "if year % 4 == 0 and year % 100 != 0 or year % 400 == 0:\n",
    "    print(\"The year of {} is a leap year\".format(year))\n",
    "else:\n",
    "    print(\"The year of is not leap year\".format(year))"
   ]
  },
  {
   "cell_type": "code",
   "execution_count": null,
   "id": "b15ec05e-10e3-460b-834a-59afa8d1caa9",
   "metadata": {
    "scrolled": true
   },
   "outputs": [],
   "source": []
  },
  {
   "cell_type": "markdown",
   "id": "fa63c081-2081-4a1d-8b58-04cad89a9c25",
   "metadata": {},
   "source": [
    "---\n",
    "# Question 8\n",
    "---"
   ]
  },
  {
   "cell_type": "markdown",
   "id": "3e6edc02-b7ea-48f6-b34c-ea5cbffa636c",
   "metadata": {},
   "source": [
    "## SubQuestion a"
   ]
  },
  {
   "cell_type": "markdown",
   "id": "30248fdc-76ed-4512-8b9e-1e2a5824e819",
   "metadata": {},
   "source": [
    "### For Loop"
   ]
  },
  {
   "cell_type": "code",
   "execution_count": 8,
   "id": "26c77c6e-afb4-4c3c-8dfc-063aa42e5a13",
   "metadata": {},
   "outputs": [
    {
     "name": "stdin",
     "output_type": "stream",
     "text": [
      "Enter the value of n : 10\n"
     ]
    },
    {
     "name": "stdout",
     "output_type": "stream",
     "text": [
      "Sum of squares of the first 10 natural numbers is 385\n"
     ]
    }
   ],
   "source": [
    "n = int(input(\"Enter the value of n :\"))\n",
    "sum_sq = 0\n",
    "for i in range(1, n+1):\n",
    "    sum_sq += i**2\n",
    "print(\"Sum of squares of the first {} natural numbers is {}\".format(n, sum_sq))\n"
   ]
  },
  {
   "cell_type": "markdown",
   "id": "8817d36d-87aa-446a-bdf3-9e5c35e810a2",
   "metadata": {},
   "source": [
    "### While Loop"
   ]
  },
  {
   "cell_type": "code",
   "execution_count": 10,
   "id": "7b4e11de-5b16-4aa6-8498-36c7126a4403",
   "metadata": {},
   "outputs": [
    {
     "name": "stdin",
     "output_type": "stream",
     "text": [
      "Enter the value of n : 10\n"
     ]
    },
    {
     "name": "stdout",
     "output_type": "stream",
     "text": [
      "Sum of squares of the first 10 natural numbers is 385\n"
     ]
    }
   ],
   "source": [
    "n = int(input(\"Enter the value of n :\"))\n",
    "sum_sq = 0\n",
    "i = 1\n",
    "while i <= n:\n",
    "    sum_sq += i**2\n",
    "    i += 1\n",
    "print(\"Sum of squares of the first {} natural numbers is {}\".format(n, sum_sq))\n"
   ]
  },
  {
   "cell_type": "markdown",
   "id": "4e3a1044-f1b8-4dd0-ad97-67194f83e98f",
   "metadata": {},
   "source": [
    "## SubQuestion b"
   ]
  },
  {
   "cell_type": "markdown",
   "id": "0a59a27e-e3a7-420a-a17c-484f2d88938a",
   "metadata": {},
   "source": [
    "### For Loop"
   ]
  },
  {
   "cell_type": "code",
   "execution_count": 20,
   "id": "3e1d32e3-0c0e-4e8a-8a2c-c843b1328bc6",
   "metadata": {},
   "outputs": [
    {
     "name": "stdin",
     "output_type": "stream",
     "text": [
      "Enter the value of M : 12\n"
     ]
    },
    {
     "name": "stdout",
     "output_type": "stream",
     "text": [
      "Smallest n such that sum of squares is ≥ 3\n"
     ]
    }
   ],
   "source": [
    "M = int(input(\"Enter the value of M :\"))\n",
    "sum_sq = 0\n",
    "\n",
    "for n in range(1, M+1):\n",
    "    sum_sq += n**2\n",
    "    if sum_sq >= M:\n",
    "        break\n",
    "print(\"Smallest n such that sum of squares is ≥ {}\".format(n))\n"
   ]
  },
  {
   "cell_type": "markdown",
   "id": "38555448-4e8c-446d-8142-b1ce5bda71ad",
   "metadata": {},
   "source": [
    "### While Loop"
   ]
  },
  {
   "cell_type": "code",
   "execution_count": 22,
   "id": "173b4428-fc6a-4bdc-b48a-292b49a25367",
   "metadata": {},
   "outputs": [
    {
     "name": "stdin",
     "output_type": "stream",
     "text": [
      "Enter the value of M : 12\n"
     ]
    },
    {
     "name": "stdout",
     "output_type": "stream",
     "text": [
      "Smallest n such that sum of squares is ≥ 3\n"
     ]
    }
   ],
   "source": [
    "M = int(input(\"Enter the value of M :\"))\n",
    "sum_sq= 0\n",
    "n = 1\n",
    "while sum_sq < M:\n",
    "    sum_sq += n**2\n",
    "    if sum_sq >= M:\n",
    "        break\n",
    "    n += 1\n",
    "\n",
    "print(\"Smallest n such that sum of squares is ≥ {}\".format(n))\n"
   ]
  },
  {
   "cell_type": "markdown",
   "id": "b9566b4e-68a3-4b76-893f-d4e0d9dbbba8",
   "metadata": {},
   "source": [
    "---\n",
    "# Question 10\n",
    "---"
   ]
  },
  {
   "cell_type": "code",
   "execution_count": 26,
   "id": "cc16b595-5d84-48c7-b1dc-6c529f3e361a",
   "metadata": {},
   "outputs": [
    {
     "name": "stdin",
     "output_type": "stream",
     "text": [
      "Enter an integer between 0 and 9:  3\n",
      "Enter a natural number N:  5\n"
     ]
    },
    {
     "name": "stdout",
     "output_type": "stream",
     "text": [
      "3 x 1 = 3\n",
      "3 x 2 = 6\n",
      "3 x 3 = 9\n",
      "3 x 4 = 12\n",
      "3 x 5 = 15\n"
     ]
    }
   ],
   "source": [
    "n = int(input(\"Enter an integer between 0 and 9: \"))\n",
    "while n < 0 or n > 9:\n",
    "    print(\"Please enter a valid number between 0 and 9.\")\n",
    "    n = int(input(\"Enter an integer between 0 and 9: \"))\n",
    "\n",
    "N = int(input(\"Enter a natural number N: \"))\n",
    "while N < 1:\n",
    "    print(\"Please enter a valid natural number .\")\n",
    "    N = int(input(\"Enter a natural number N: \"))\n",
    "\n",
    "for i in range(1, N + 1):\n",
    "    print(f\"{n} x {i} = {n * i}\")\n"
   ]
  },
  {
   "cell_type": "code",
   "execution_count": null,
   "id": "d358b63b-aeb7-4a0f-8e58-25be942ee0c1",
   "metadata": {},
   "outputs": [],
   "source": []
  }
 ],
 "metadata": {
  "kernelspec": {
   "display_name": "Python 3 (ipykernel)",
   "language": "python",
   "name": "python3"
  },
  "language_info": {
   "codemirror_mode": {
    "name": "ipython",
    "version": 3
   },
   "file_extension": ".py",
   "mimetype": "text/x-python",
   "name": "python",
   "nbconvert_exporter": "python",
   "pygments_lexer": "ipython3",
   "version": "3.12.4"
  }
 },
 "nbformat": 4,
 "nbformat_minor": 5
}
