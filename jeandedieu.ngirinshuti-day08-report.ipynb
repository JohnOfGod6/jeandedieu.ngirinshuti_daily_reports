{
 "cells": [
  {
   "cell_type": "markdown",
   "metadata": {
    "id": "sm-kMbirqqyt"
   },
   "source": [
    "# PyPro: challenge 1 \n",
    "\n",
    "### This challenge is due on Sunday 29th September 2024 at 8pm.\n",
    "\n",
    "`These exercises provide a wide range of challenges that test your understanding of Python's core concepts, such as control structures, data types, string manipulations, list comprehensions, and higher-order functions.`\n",
    "\n",
    "\n",
    "#### Basic Tasks"
   ]
  },
  {
   "cell_type": "markdown",
   "metadata": {
    "id": "sm-kMbirqqyt"
   },
   "source": [
    "1. Create a function `find_max()` that accepts two numeric inputs and returns the greater value. Avoid using the built-in `max()` function."
   ]
  },
  {
   "cell_type": "markdown",
   "metadata": {},
   "source": [
    "```python\n",
    "def find_max(a,b):\n",
    "    if a < b:\n",
    "        return b\n",
    "    else:\n",
    "        return a \n",
    "find_max(9,78)\n",
    "```"
   ]
  },
  {
   "cell_type": "markdown",
   "metadata": {
    "id": "sm-kMbirqqyt"
   },
   "source": [
    "2. Develop a function `find_max_of_three()` to find the maximum among three given numbers."
   ]
  },
  {
   "cell_type": "markdown",
   "metadata": {},
   "source": [
    "```python\n",
    "def find_max_of_three(a,b,c):\n",
    "    print(max(a,b,c))\n",
    "find_max_of_three(1,2,3)\n",
    "```"
   ]
  },
  {
   "cell_type": "markdown",
   "metadata": {
    "id": "sm-kMbirqqyt"
   },
   "source": [
    "3. Write a function to manually calculate the length of a given list or string without using `len()`."
   ]
  },
  {
   "cell_type": "markdown",
   "metadata": {},
   "source": [
    "```python\n",
    "def leng(lst):\n",
    "    count = 0\n",
    "    for k in lst:\n",
    "        count = count + 1\n",
    "    return count\n",
    "leng([1,2,3,5,6])\n",
    "```"
   ]
  },
  {
   "cell_type": "markdown",
   "metadata": {
    "id": "sm-kMbirqqyt"
   },
   "source": [
    "4. Implement a function that checks if a given character is a vowel (a, e, i, o, u)."
   ]
  },
  {
   "cell_type": "markdown",
   "metadata": {},
   "source": [
    "```python\n",
    "def checker(string):\n",
    "    vawels = \"aeiou\"\n",
    "    for k in range(len(string)):\n",
    "        if string[k] in vawels:\n",
    "            print(f\"The character {string[k]} is a vowel\")\n",
    "checker(\"mum\")\n",
    "```"
   ]
  },
  {
   "cell_type": "markdown",
   "metadata": {
    "id": "sm-kMbirqqyt"
   },
   "source": [
    "5. Write a function `encode()` that converts a string into \"rövarspråket\" ([robber's language](https://en.wikipedia.org/wiki/R%C3%B6varspr%C3%A5ket)) by doubling consonants and placing \"o\" in between, e.g., \"hello\" -> \"hohelollolo\"."
   ]
  },
  {
   "cell_type": "code",
   "execution_count": 2,
   "metadata": {},
   "outputs": [
    {
     "data": {
      "text/plain": [
       "'hohelollolo'"
      ]
     },
     "execution_count": 2,
     "metadata": {},
     "output_type": "execute_result"
    }
   ],
   "source": [
    "def encode(text):\n",
    "    vowels = 'aeiouyAEIOUY'\n",
    "    encoded = []\n",
    "\n",
    "    for char in text:\n",
    "        if char.isalpha() and char not in vowels:\n",
    "            encoded.append(char + 'o' + char)\n",
    "        else:\n",
    "            encoded.append(char)\n",
    "\n",
    "    return ''.join(encoded)\n",
    "\n",
    "\n",
    "encode(\"hello\")\n",
    "\n"
   ]
  },
  {
   "cell_type": "markdown",
   "metadata": {
    "id": "sm-kMbirqqyt"
   },
   "source": [
    "6. Create `sum_elements()` and `product_elements()` functions to sum and multiply all elements in a list, respectively."
   ]
  },
  {
   "cell_type": "code",
   "execution_count": 11,
   "metadata": {},
   "outputs": [
    {
     "data": {
      "text/plain": [
       "10"
      ]
     },
     "execution_count": 11,
     "metadata": {},
     "output_type": "execute_result"
    }
   ],
   "source": [
    "def sum_elements(numbers):\n",
    "    \"\"\"Return the sum of all elements in the list.\"\"\"\n",
    "    total = 0\n",
    "    for number in numbers:\n",
    "        total += number\n",
    "    return total\n",
    "    numbers = [1, 2, 3, 4]\n",
    "sum_elements(numbers)"
   ]
  },
  {
   "cell_type": "code",
   "execution_count": 13,
   "metadata": {},
   "outputs": [
    {
     "data": {
      "text/plain": [
       "24"
      ]
     },
     "execution_count": 13,
     "metadata": {},
     "output_type": "execute_result"
    }
   ],
   "source": [
    "def product_elements(numbers):\n",
    "    \"\"\"Return the product of all elements in the list.\"\"\"\n",
    "    product = 1\n",
    "    for number in numbers:\n",
    "        product *= number\n",
    "    return product\n",
    "\n",
    "numbers = [1, 2, 3, 4]\n",
    "product_elements(numbers)"
   ]
  },
  {
   "cell_type": "markdown",
   "metadata": {
    "id": "sm-kMbirqqyt"
   },
   "source": [
    "7. Define a function `reverse_string()` to reverse the characters in a given string."
   ]
  },
  {
   "cell_type": "code",
   "execution_count": 15,
   "metadata": {},
   "outputs": [
    {
     "data": {
      "text/plain": [
       "'adnawR olleH'"
      ]
     },
     "execution_count": 15,
     "metadata": {},
     "output_type": "execute_result"
    }
   ],
   "source": [
    "def reverse_string(s):\n",
    "    \"\"\"Return the reversed version of the input string.\"\"\"\n",
    "    return s[::-1]\n",
    "\n",
    "reverse_string(\"Hello Rwanda\")\n",
    "\n"
   ]
  },
  {
   "cell_type": "markdown",
   "metadata": {
    "id": "sm-kMbirqqyt"
   },
   "source": [
    "9. Develop a function `check_membership()` to determine if a value exists within a list."
   ]
  },
  {
   "cell_type": "code",
   "execution_count": 17,
   "metadata": {},
   "outputs": [
    {
     "name": "stdout",
     "output_type": "stream",
     "text": [
      "True\n",
      "False\n"
     ]
    }
   ],
   "source": [
    "def check_membership(value, lst):\n",
    "    \"\"\"Return True if value exists in the list, otherwise False.\"\"\"\n",
    "    return value in lst\n",
    "\n",
    "my_list = [1, 2, 3, 4, 5]\n",
    "\n",
    "value_to_check = 3\n",
    "is_member = check_membership(value_to_check, my_list)\n",
    "print(is_member) \n",
    "value_to_check = 6\n",
    "is_member = check_membership(value_to_check, my_list)\n",
    "print(is_member)  "
   ]
  },
  {
   "cell_type": "markdown",
   "metadata": {
    "id": "sm-kMbirqqyt"
   },
   "source": [
    "10. Write `check_overlap()` to identify if two lists share any elements."
   ]
  },
  {
   "cell_type": "code",
   "execution_count": 19,
   "metadata": {},
   "outputs": [
    {
     "name": "stdout",
     "output_type": "stream",
     "text": [
      "True\n",
      "False\n"
     ]
    }
   ],
   "source": [
    "def check_overlap(list1, list2):\n",
    "    \"\"\"Return True if there is any overlap between the two lists, otherwise False.\"\"\"\n",
    "    return any(item in list1 for item in list2)\n",
    "\n",
    "\n",
    "list_a = [10, 20, 30, 40]\n",
    "list_b = [40, 50, 6]\n",
    "\n",
    "has_overlap = check_overlap(list_a, list_b)\n",
    "print(has_overlap) \n",
    "list_c = [7, 8, 9]\n",
    "has_overlap = check_overlap(list_a, list_c)\n",
    "print(has_overlap)  "
   ]
  },
  {
   "cell_type": "markdown",
   "metadata": {
    "id": "sm-kMbirqqyt"
   },
   "source": [
    "11. Implement `repeat_char()` that generates a string with a specified character repeated `n` times.\n",
    "\n",
    "12. Create a function `print_histogram()` that takes a list of integers and prints a corresponding histogram.\n",
    "\n",
    "13. Write `find_max_in_list()` to identify the largest number in a list of arbitrary length.\n",
    "\n",
    "14. Create a program that maps each word in a list to its length.\n",
    "\n",
    "15. Implement `longest_word()` to find the longest word in a list.\n",
    "\n",
    "16. Develop `filter_words()` to return words longer than a specified length from a list.\n",
    "\n",
    "17. Enhance the palindrome recognizer to handle phrases, ignoring spaces, punctuation, and case.\n",
    "\n",
    "18. Implement a function that checks if a given sentence is a [pangram](https://en.wikipedia.org/wiki/Pangram).\n",
    "\n",
    "19. Write a function that generates verses for the \"99 Bottles of Beer\" song.\n",
    "\n",
    "20. Create a translation function using a small dictionary to translate English words into French/.\n",
    "\n",
    "21. Develop `char_frequency()` to build a dictionary of character frequencies in a string.\n",
    "\n",
    "22. Implement a [Caesar cipher encoder/decoder using a shift of 13 (ROT-13)](https://en.wikipedia.org/wiki/ROT13).\n",
    "\n",
    "23. Create `fix_spaces()` to correct multiple spaces and missing spaces after periods in a text.\n",
    "\n",
    "24. Write `convert_to_third_person()` to transform verbs into their third person singular form.\n",
    "\n",
    "25. Implement `make_ing_form()` to convert verbs into their present participle form using heuristic rules.\n",
    "\n",
    "\n",
    "\n",
    "\n",
    "\n",
    "#### Higher-Order Functions and List Comprehensions\n",
    "\n",
    "26. Use `reduce()` to write `max_in_list()` that returns the largest number in a list.\n",
    "\n",
    "27. Write a program that maps words to their lengths using a for-loop, `map()`, and list comprehensions.\n",
    "\n",
    "28. Implement `find_longest_word()` using only higher-order functions.\n",
    "\n",
    "29. Use `filter()` to write `filter_long_words()` that filters words longer than `n`.\n",
    "\n",
    "30. Create `translate_with_map()` to translate English words to French using `map()`.\n",
    "\n",
    "31. Re-implement the higher-order functions `map()`, `filter()`, and `reduce()` from scratch.\n",
    "\n",
    "\n",
    "\n",
    "\n",
    "\n",
    "#### Simple Tasks with I/O\n",
    "\n",
    "32. Write a palindrome recognizer that reads lines from a file and prints only the palindromes.\n",
    "\n",
    "33. Implement a [semordnilap](https://en.wiktionary.org/wiki/semordnilap) recognizer that finds word pairs from a file where each word is the reverse of the other.\n",
    "\n",
    "34. Create `char_frequency_table()` to display a sorted character frequency table from a file.\n",
    "\n",
    "35. Write a function `speak_ICAO()` that translates text into the [ICAO phonetic alphabet](https://en.wikipedia.org/wiki/NATO_phonetic_alphabet).\n",
    "\n",
    "36. Implement `find_hapaxes()` to identify words that occur only once in a text file.\n",
    "\n",
    "37. Write a program that numbers each line in a text file.\n",
    "\n",
    "38. Calculate the average word length in a text file.\n",
    "\n",
    "39. Implement a number-guessing game where the user guesses a number between 1 and 20.\n",
    "\n",
    "40. Write a program that presents an [anagram](https://en.wikipedia.org/wiki/Anagram) of a randomly chosen word and allows the user to guess the original.\n",
    "\n",
    "41. Create a [Lingo game](https://en.wikipedia.org/wiki/Lingo_(American_game_show)) where players guess a hidden word, receiving clues about correct and misplaced characters.\n",
    "\n",
    "\n",
    "\n",
    "#### Advanced Tasks\n",
    "\n",
    "42. Develop a sentence splitter that separates a text into sentences based on various heuristics.\n",
    "\n",
    "43. Write a program to find the largest group of anagrams in a given word list.\n",
    "\n",
    "44. Generate a string of balanced brackets and verify if it is balanced.\n",
    "\n",
    "45. Create a word chain game where each word starts with the last letter of the previous one, using a list of [Pokemon names](https://en.wikipedia.org/wiki/List_of_Pok%C3%A9mon)."
   ]
  },
  {
   "cell_type": "code",
   "execution_count": 22,
   "metadata": {},
   "outputs": [
    {
     "name": "stdout",
     "output_type": "stream",
     "text": [
      "the product of all element is  6000\n"
     ]
    }
   ],
   "source": [
    "num = [10,20,30]\n",
    "pro = 1\n",
    "for k in range(0,len(num)):\n",
    "    pro = num[k] * pro\n",
    "print(f\"the product of all element is  {pro}\")"
   ]
  },
  {
   "cell_type": "code",
   "execution_count": null,
   "metadata": {},
   "outputs": [],
   "source": []
  }
 ],
 "metadata": {
  "colab": {
   "provenance": []
  },
  "kernelspec": {
   "display_name": "Python 3 (ipykernel)",
   "language": "python",
   "name": "python3"
  },
  "language_info": {
   "codemirror_mode": {
    "name": "ipython",
    "version": 3
   },
   "file_extension": ".py",
   "mimetype": "text/x-python",
   "name": "python",
   "nbconvert_exporter": "python",
   "pygments_lexer": "ipython3",
   "version": "3.12.4"
  }
 },
 "nbformat": 4,
 "nbformat_minor": 4
}
