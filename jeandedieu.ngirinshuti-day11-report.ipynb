{
 "cells": [
  {
   "cell_type": "markdown",
   "id": "946dcae8",
   "metadata": {},
   "source": [
    "# Practical_6: Numpy"
   ]
  },
  {
   "cell_type": "markdown",
   "id": "7472d4c9-e00e-4428-ad74-e2fdbe40e32e",
   "metadata": {},
   "source": [
    "---\n",
    "\n",
    "### Exercise 1:\n",
    "Create a NumPy array of integers from 1 to 10.\n",
    " "
   ]
  },
  {
   "cell_type": "code",
   "execution_count": 3,
   "id": "c71867d8-3476-4035-8e74-7409a3094a0e",
   "metadata": {},
   "outputs": [],
   "source": [
    "import numpy as np\n",
    "arr = np.array([1,2,3,4,5,6,7,8,9,10]) # or \n",
    "arr1 = np.arange(1,11)"
   ]
  },
  {
   "cell_type": "markdown",
   "id": "b447a4e9-2e01-44cc-8cc1-e065d26011dd",
   "metadata": {},
   "source": [
    "---\n",
    "\n",
    "### Exercise 2:\n",
    "Create a 3x3 NumPy array filled with zeros.\n",
    " "
   ]
  },
  {
   "cell_type": "code",
   "execution_count": 27,
   "id": "e159036e-02a9-4c30-bace-cb2f6e583fc3",
   "metadata": {},
   "outputs": [
    {
     "name": "stdout",
     "output_type": "stream",
     "text": [
      "[[0. 0. 0.]\n",
      " [0. 0. 0.]\n",
      " [0. 0. 0.]]\n"
     ]
    }
   ],
   "source": [
    "zeros = np.zeros((3, 3))\n",
    "print(zeros)"
   ]
  },
  {
   "cell_type": "markdown",
   "id": "244b194f-a0c4-40e8-b587-241b718a9e0b",
   "metadata": {},
   "source": [
    "---\n",
    "\n",
    "### Exercise 3:\n",
    "Create a NumPy array of 10 evenly spaced numbers between 0 and 5.\n",
    " "
   ]
  },
  {
   "cell_type": "code",
   "execution_count": 46,
   "id": "04ab107c-203f-40e0-b733-0b7855c29ca1",
   "metadata": {},
   "outputs": [
    {
     "name": "stdout",
     "output_type": "stream",
     "text": [
      "[0.         0.55555556 1.11111111 1.66666667 2.22222222 2.77777778\n",
      " 3.33333333 3.88888889 4.44444444 5.        ]\n"
     ]
    }
   ],
   "source": [
    "arr2 = np.linspace(0,5,10)\n",
    "print(arr2)"
   ]
  },
  {
   "cell_type": "markdown",
   "id": "ea9e7f69-acba-42cc-a3ef-bde794589397",
   "metadata": {},
   "source": [
    "---\n",
    "\n",
    "### Exercise 4:\n",
    "Create a 5x5 identity matrix using NumPy.\n",
    "\n"
   ]
  },
  {
   "cell_type": "code",
   "execution_count": 33,
   "id": "6008c3fc-4297-4829-9f2e-be0345af630a",
   "metadata": {},
   "outputs": [
    {
     "name": "stdout",
     "output_type": "stream",
     "text": [
      "[[1. 0. 0. 0. 0.]\n",
      " [0. 1. 0. 0. 0.]\n",
      " [0. 0. 1. 0. 0.]\n",
      " [0. 0. 0. 1. 0.]\n",
      " [0. 0. 0. 0. 1.]]\n"
     ]
    }
   ],
   "source": [
    "arr3 = np.identity(5)\n",
    "print(arr3)"
   ]
  },
  {
   "cell_type": "markdown",
   "id": "0945e3a6-c819-4399-aaed-9f60fcdba5d6",
   "metadata": {},
   "source": [
    "---\n",
    "\n",
    "### Exercise 5:\n",
    "Create a 4x4 matrix with random values between 0 and 1.\n",
    " "
   ]
  },
  {
   "cell_type": "code",
   "execution_count": 48,
   "id": "a9359a93-ea2d-476c-9880-9e8a795e5e83",
   "metadata": {},
   "outputs": [
    {
     "name": "stdout",
     "output_type": "stream",
     "text": [
      "[[0.19821348 0.87314535 0.87982823 0.78041216]\n",
      " [0.34616158 0.22058418 0.48611581 0.62560526]\n",
      " [0.43374694 0.43104267 0.0698116  0.36149968]\n",
      " [0.45077235 0.16681392 0.4179006  0.12279826]]\n"
     ]
    }
   ],
   "source": [
    "arr4 = np.random.rand(4,4)\n",
    "print(arr4)"
   ]
  },
  {
   "cell_type": "markdown",
   "id": "10d12786-f557-4651-8aca-5946d95ed47e",
   "metadata": {},
   "source": [
    "---\n",
    "\n",
    "### Exercise 6:\n",
    "Find the shape of a NumPy array.\n"
   ]
  },
  {
   "cell_type": "code",
   "execution_count": 53,
   "id": "29e311b5-28fa-4e63-b59d-c6e9ce057b59",
   "metadata": {},
   "outputs": [
    {
     "data": {
      "text/plain": [
       "(4, 4)"
      ]
     },
     "execution_count": 53,
     "metadata": {},
     "output_type": "execute_result"
    }
   ],
   "source": [
    "arr4.shape"
   ]
  },
  {
   "cell_type": "markdown",
   "id": "1f1fd3fe-75cf-4aab-93d3-3ec6094ca83b",
   "metadata": {},
   "source": [
    "---\n",
    "\n",
    "### Exercise 7:\n",
    "Reshape a 1D NumPy array of 16 elements into a 4x4 matrix."
   ]
  },
  {
   "cell_type": "code",
   "execution_count": 60,
   "id": "968dfb2e-6f17-49fa-b55e-2b3d623ea792",
   "metadata": {},
   "outputs": [
    {
     "name": "stdout",
     "output_type": "stream",
     "text": [
      "[[ 1  2  3  4]\n",
      " [ 5  6  7  8]\n",
      " [ 9 10 11 12]\n",
      " [13 14 15 16]]\n"
     ]
    }
   ],
   "source": [
    "arr5 = np.arange(1,17)\n",
    "arr5 = arr5.reshape(4,4)\n",
    "print(arr5)"
   ]
  },
  {
   "cell_type": "markdown",
   "id": "9d41fe52-a804-4cc0-88dc-312268cab713",
   "metadata": {},
   "source": [
    "---\n",
    "\n",
    "### Exercise 8:\n",
    "Find the data type of the elements in a NumPy array."
   ]
  },
  {
   "cell_type": "code",
   "execution_count": 77,
   "id": "c4de27a5-b60a-4298-9d1e-11fc2653e34c",
   "metadata": {},
   "outputs": [
    {
     "data": {
      "text/plain": [
       "dtype('int32')"
      ]
     },
     "execution_count": 77,
     "metadata": {},
     "output_type": "execute_result"
    }
   ],
   "source": [
    "arr5.dtype"
   ]
  },
  {
   "cell_type": "markdown",
   "id": "eb8ced34-57f2-4c22-b1c1-46094cdca991",
   "metadata": {},
   "source": [
    "---\n",
    "\n",
    "### Exercise 9:\n",
    "Create a NumPy array of integers from 1 to 100 and find all even numbers in the array.\n",
    " "
   ]
  },
  {
   "cell_type": "code",
   "execution_count": 80,
   "id": "a829e8ef-d805-480f-a259-6289de021efb",
   "metadata": {},
   "outputs": [
    {
     "name": "stdout",
     "output_type": "stream",
     "text": [
      "[  2   4   6   8  10  12  14  16  18  20  22  24  26  28  30  32  34  36\n",
      "  38  40  42  44  46  48  50  52  54  56  58  60  62  64  66  68  70  72\n",
      "  74  76  78  80  82  84  86  88  90  92  94  96  98 100]\n"
     ]
    }
   ],
   "source": [
    "arr6 = np.arange(1,101)\n",
    "even_arr = arr6[arr6 % 2 == 0]\n",
    "print(even_arr)"
   ]
  },
  {
   "cell_type": "markdown",
   "id": "62d2f36b-8c9f-48b8-bf9a-af4524aea286",
   "metadata": {},
   "source": [
    "---\n",
    "\n",
    "### Exercise 10:\n",
    "Generate a 6x6 matrix of random integers between 10 and 50.\n",
    " "
   ]
  },
  {
   "cell_type": "code",
   "execution_count": 89,
   "id": "49175e2f-3112-4a05-8db7-d95ff416d81e",
   "metadata": {},
   "outputs": [
    {
     "name": "stdout",
     "output_type": "stream",
     "text": [
      "[[21 11 22 38 29 29]\n",
      " [34 39 45 44 26 29]\n",
      " [12 34 28 48 29 16]\n",
      " [40 36 41 21 28 45]\n",
      " [36 37 37 16 38 30]\n",
      " [49 33 27 49 21 18]]\n"
     ]
    }
   ],
   "source": [
    "arr7 = np.random.randint(10,50, size =(6,6))\n",
    "print(arr7)"
   ]
  },
  {
   "cell_type": "markdown",
   "id": "283132e5-39de-45f3-9d64-fd621715247c",
   "metadata": {},
   "source": [
    "---\n",
    "\n",
    "### Exercise 11:\n",
    "Slice a 2D NumPy array to extract a submatrix.\n",
    " "
   ]
  },
  {
   "cell_type": "code",
   "execution_count": 96,
   "id": "6f4acb72-b69c-48c6-b6d6-5e315ce53f75",
   "metadata": {},
   "outputs": [
    {
     "name": "stdout",
     "output_type": "stream",
     "text": [
      "[[39 45 44]\n",
      " [34 28 48]]\n"
     ]
    }
   ],
   "source": [
    "arr8 = arr7[1:3,1:4]\n",
    "print(arr8)"
   ]
  },
  {
   "cell_type": "markdown",
   "id": "6d19e760-1c84-4dc6-9d08-279a01f442ae",
   "metadata": {},
   "source": [
    "---\n",
    "\n",
    "### Exercise 12:\n",
    "Calculate the sum of all elements in a NumPy array.\n"
   ]
  },
  {
   "cell_type": "code",
   "execution_count": 101,
   "id": "cbb0a08d-49cf-4858-97f6-879acf5cfd73",
   "metadata": {},
   "outputs": [
    {
     "name": "stdout",
     "output_type": "stream",
     "text": [
      "238\n"
     ]
    }
   ],
   "source": [
    "sum_arr = np.sum(arr8)\n",
    "print(sum_arr)"
   ]
  },
  {
   "cell_type": "markdown",
   "id": "dc9abb8e-ec20-410b-b30e-e5ee4cda2dbe",
   "metadata": {},
   "source": [
    "---\n",
    "\n",
    "### Exercise 13:\n",
    "Calculate the mean, median, and standard deviation of a NumPy array.\n",
    " "
   ]
  },
  {
   "cell_type": "code",
   "execution_count": 107,
   "id": "8cdd69b8-e937-4b43-9e58-e3bb2001a389",
   "metadata": {},
   "outputs": [
    {
     "name": "stdout",
     "output_type": "stream",
     "text": [
      "39.666666666666664\n",
      "41.5\n",
      "6.896053621859068\n"
     ]
    }
   ],
   "source": [
    "mean_arr = np.mean(arr8)\n",
    "print(mean_arr)\n",
    "media_arr = np.median(arr8)\n",
    "print(media_arr)\n",
    "sd_arr = np.std(arr8)\n",
    "print(sd_arr)"
   ]
  },
  {
   "cell_type": "markdown",
   "id": "cdd636e9-5182-49e0-8e92-9dac3024387a",
   "metadata": {},
   "source": [
    "---\n",
    "\n",
    "### Exercise 14:\n",
    "Find the maximum and minimum values in a NumPy array.\n"
   ]
  },
  {
   "cell_type": "code",
   "execution_count": 110,
   "id": "3a45001d-4727-40c6-a1aa-89031d5d0920",
   "metadata": {},
   "outputs": [
    {
     "name": "stdout",
     "output_type": "stream",
     "text": [
      "The minimum value is: 28\n",
      "The maximum value is : 48\n"
     ]
    }
   ],
   "source": [
    "min_arr = np.min(arr8)\n",
    "print(\"The minimum value is:\",min_arr)\n",
    "max_arr = np.max(arr8)\n",
    "print(\"The maximum value is :\",max_arr)"
   ]
  },
  {
   "cell_type": "markdown",
   "id": "b0dba5d3-aecc-45f3-bd02-2423d33ded5c",
   "metadata": {},
   "source": [
    "---\n",
    "\n",
    "### Exercise 15:\n",
    "Create a NumPy array of 20 random integers and find the index of the maximum value.\n"
   ]
  },
  {
   "cell_type": "code",
   "execution_count": 133,
   "id": "3b073b5c-45b5-4f31-9012-3fe5e7f1bc70",
   "metadata": {},
   "outputs": [
    {
     "name": "stdout",
     "output_type": "stream",
     "text": [
      "[13 47 31 54 21 53 17 67 95  8 21 47 53 20 28 39  6 53 29 69]\n",
      "8\n"
     ]
    }
   ],
   "source": [
    "arr9 = np.random.randint(100,size = (20))\n",
    "print(arr9)\n",
    "max_ar = np.argmax(arr9)\n",
    "print(max_ar)"
   ]
  },
  {
   "cell_type": "markdown",
   "id": "1091da14-474b-4dca-9623-5a4c36911315",
   "metadata": {},
   "source": [
    "---\n",
    "\n",
    "### Exercise 16:\n",
    "Create a NumPy array and reverse its elements.\n",
    " "
   ]
  },
  {
   "cell_type": "code",
   "execution_count": 145,
   "id": "da032097-3a84-4cf1-841a-6efb3ed9777b",
   "metadata": {},
   "outputs": [
    {
     "name": "stdout",
     "output_type": "stream",
     "text": [
      "[9 8 7 6 5 4 3 2 1 0]\n"
     ]
    }
   ],
   "source": [
    "arr10 = np.arange(10)\n",
    "arr10 = arr10[::-1]\n",
    "print(arr10)"
   ]
  },
  {
   "cell_type": "markdown",
   "id": "4029196e-aa06-4cab-bb41-7a07b93ec07f",
   "metadata": {},
   "source": [
    "---\n",
    "\n",
    "### Exercise 17:\n",
    "Create a 3x3 matrix and multiply it element-wise by another 3x3 matrix.\n",
    " "
   ]
  },
  {
   "cell_type": "code",
   "execution_count": 161,
   "id": "e577e182-3e28-4adb-9536-69bb751db585",
   "metadata": {},
   "outputs": [
    {
     "name": "stdout",
     "output_type": "stream",
     "text": [
      "[[ 0 21]\n",
      " [56  6]]\n"
     ]
    }
   ],
   "source": [
    "arr11 = np.random.randint(10, size =(2,2))\n",
    "arr12 = np.random.randint(10, size =(1,2))\n",
    "mult_arr = np.multiply(arr11,arr12)\n",
    "print(mult_arr)"
   ]
  },
  {
   "cell_type": "markdown",
   "id": "591c7c16-084f-4583-909d-69795762435f",
   "metadata": {},
   "source": [
    "---\n",
    "\n",
    "### Exercise 18:\n",
    "Create a diagonal matrix from a given 1D array.\n",
    " "
   ]
  },
  {
   "cell_type": "code",
   "execution_count": 154,
   "id": "30cfa2bc-0e7c-4a4d-ab9c-ef3609412e59",
   "metadata": {},
   "outputs": [
    {
     "name": "stdout",
     "output_type": "stream",
     "text": [
      "[[0 0 0 0 0]\n",
      " [0 1 0 0 0]\n",
      " [0 0 2 0 0]\n",
      " [0 0 0 3 0]\n",
      " [0 0 0 0 4]]\n"
     ]
    }
   ],
   "source": [
    "arr13 = np.arange(5)\n",
    "diago_arr = np.diag(arr13)\n",
    "print(diago_arr)"
   ]
  },
  {
   "cell_type": "markdown",
   "id": "4b1674a5-f6b2-4a1e-8274-71b4cc2cdd18",
   "metadata": {},
   "source": [
    "---\n",
    "\n",
    "### Exercise 19:\n",
    "Perform matrix multiplication on two 2D NumPy arrays."
   ]
  },
  {
   "cell_type": "code",
   "execution_count": 157,
   "id": "fa6311b2-4235-4573-bada-2195fc57d6f7",
   "metadata": {},
   "outputs": [
    {
     "name": "stdout",
     "output_type": "stream",
     "text": [
      "[[38 70 12]\n",
      " [60 64  8]\n",
      " [11 31  6]]\n"
     ]
    }
   ],
   "source": [
    "arr14 = np.random.randint(10,size = (3,2))\n",
    "arr15 = np.random.randint(10,size = (2,3))\n",
    "print(arr14@arr15)"
   ]
  },
  {
   "cell_type": "markdown",
   "id": "83d95ea9-c717-42ee-b957-be252e82bd31",
   "metadata": {},
   "source": [
    "---\n",
    "\n",
    "### Exercise 20:\n",
    "Flatten a 2D NumPy array into a 1D array."
   ]
  },
  {
   "cell_type": "code",
   "execution_count": 166,
   "id": "e47b4906-34a0-46aa-a772-48983eaea4cd",
   "metadata": {},
   "outputs": [
    {
     "name": "stdout",
     "output_type": "stream",
     "text": [
      "[0.39127167 0.91155008 0.80765461 0.608557   0.60526402 0.74521334]\n"
     ]
    }
   ],
   "source": [
    "arr16 = np.random.rand(2,3)\n",
    "print(np.ndarray.flatten(arr16))"
   ]
  },
  {
   "cell_type": "markdown",
   "id": "e04c222e-68cd-4dc6-a4b3-dc23a52258ed",
   "metadata": {},
   "source": [
    "---\n",
    "\n",
    "### Exercise 21:\n",
    "Stack two NumPy arrays vertically.\n",
    " "
   ]
  },
  {
   "cell_type": "code",
   "execution_count": 186,
   "id": "a7f207e5-96ab-48b2-82fb-e6b320ce6414",
   "metadata": {},
   "outputs": [
    {
     "name": "stdout",
     "output_type": "stream",
     "text": [
      "[[0 1 2 3 4]\n",
      " [0 1 2 3 4]]\n"
     ]
    }
   ],
   "source": [
    "arra = np.arange(5)\n",
    "arra1 = np.arange(5)\n",
    "print(np.vstack((arra,arra1)))"
   ]
  },
  {
   "cell_type": "markdown",
   "id": "e1e0f08f-54cb-44c2-874e-4e076c7a5b3d",
   "metadata": {},
   "source": [
    "---\n",
    "\n",
    "### Exercise 22:\n",
    "Stack two NumPy arrays horizontally."
   ]
  },
  {
   "cell_type": "code",
   "execution_count": 189,
   "id": "f4ada945-11a3-41e4-8652-15ae6dedc156",
   "metadata": {},
   "outputs": [
    {
     "name": "stdout",
     "output_type": "stream",
     "text": [
      "[0 1 2 3 4 0 1 2 3 4]\n"
     ]
    }
   ],
   "source": [
    "arra = np.arange(5)\n",
    "arra1 = np.arange(5)\n",
    "print(np.hstack((arra,arra1)))"
   ]
  },
  {
   "cell_type": "markdown",
   "id": "4d3b9aa0-f16e-438d-8967-8b5d23b55a9b",
   "metadata": {},
   "source": [
    "---\n",
    "\n",
    "### Exercise 23:\n",
    "Split a NumPy array into multiple sub-arrays.\n",
    " "
   ]
  },
  {
   "cell_type": "code",
   "execution_count": 194,
   "id": "bdcbc6b8-9eae-4b69-b93e-b56598a00d28",
   "metadata": {},
   "outputs": [
    {
     "name": "stdout",
     "output_type": "stream",
     "text": [
      "[array([0, 1, 2, 3, 4]), array([0, 1, 2, 3, 4])]\n"
     ]
    }
   ],
   "source": [
    "arra3 = np.hstack((arra,arra1))\n",
    "print(np.split(arra3,2))"
   ]
  },
  {
   "cell_type": "markdown",
   "id": "2a94029f-91ce-4560-b264-0734ae081800",
   "metadata": {},
   "source": [
    "---\n",
    "\n",
    "### Exercise 24:\n",
    "Generate a random NumPy array and round each element to two decimal places.\n",
    " "
   ]
  },
  {
   "cell_type": "code",
   "execution_count": 7,
   "id": "c4c4f313-28d4-4350-815f-7448092315df",
   "metadata": {},
   "outputs": [
    {
     "name": "stdout",
     "output_type": "stream",
     "text": [
      "[0.21 0.72 0.48 0.08 0.72 0.98 0.26 0.31 0.86 0.29]\n"
     ]
    }
   ],
   "source": [
    "arr=np.random.rand(10)\n",
    "rounded_arr=np.round(arr, 2)\n",
    "print(rounded_arr)"
   ]
  },
  {
   "cell_type": "markdown",
   "id": "0a81f990-b138-45ff-b751-7957bd9f3335",
   "metadata": {},
   "source": [
    "---\n",
    "\n",
    "### Exercise 25:\n",
    "Find the unique elements of a NumPy array.\n",
    " "
   ]
  },
  {
   "cell_type": "code",
   "execution_count": 10,
   "id": "e5d46285-4185-4cef-9a55-e8ff7f398a8e",
   "metadata": {},
   "outputs": [
    {
     "name": "stdout",
     "output_type": "stream",
     "text": [
      "[1 2 3 4 5 7]\n"
     ]
    }
   ],
   "source": [
    "arr=np.array([2,3,4,5,7,1,2])\n",
    "print(np.unique(arr))"
   ]
  },
  {
   "cell_type": "markdown",
   "id": "8bf37931-d298-48f3-944b-bc85971c3091",
   "metadata": {},
   "source": [
    "---\n",
    "\n",
    "### Exercise 26:\n",
    "Replace all elements in a NumPy array that are less than a specific value with that value.\n",
    " "
   ]
  },
  {
   "cell_type": "code",
   "execution_count": 13,
   "id": "6a8a0e4f-e240-483e-9e06-b0d85994c49c",
   "metadata": {},
   "outputs": [
    {
     "name": "stdout",
     "output_type": "stream",
     "text": [
      "[3 3 3 3 4 5]\n"
     ]
    }
   ],
   "source": [
    "arr1 = np.arange(6)\n",
    "value = 3\n",
    "arr1[arr1 < value] = value\n",
    "print(arr1)"
   ]
  },
  {
   "cell_type": "markdown",
   "id": "22068635-27ed-4ea0-9e10-75130c6b7949",
   "metadata": {},
   "source": [
    "---\n",
    "\n",
    "### Exercise 27:\n",
    "Find the cumulative sum of the elements in a NumPy array.\n",
    " "
   ]
  },
  {
   "cell_type": "code",
   "execution_count": 16,
   "id": "cac7e246-50ef-462e-b19b-49503b752cf6",
   "metadata": {},
   "outputs": [
    {
     "data": {
      "text/plain": [
       "array([ 0,  1,  3,  6, 10, 15, 21])"
      ]
     },
     "execution_count": 16,
     "metadata": {},
     "output_type": "execute_result"
    }
   ],
   "source": [
    "arr1 = np.arange(7)\n",
    "np.cumsum(arr1)"
   ]
  },
  {
   "cell_type": "markdown",
   "id": "cab95604-b4a3-4fc1-85f2-9a94f2ee7f25",
   "metadata": {},
   "source": [
    "---\n",
    "\n",
    "### Exercise 28:\n",
    "Create a NumPy array and find the number of non-zero elements in it."
   ]
  },
  {
   "cell_type": "code",
   "execution_count": 19,
   "id": "f97c778e-3782-4f27-9990-e3357a2effa6",
   "metadata": {},
   "outputs": [
    {
     "data": {
      "text/plain": [
       "1"
      ]
     },
     "execution_count": 19,
     "metadata": {},
     "output_type": "execute_result"
    }
   ],
   "source": [
    "arr1 = np.random.randint(7)\n",
    "np.count_nonzero(arr1)\n"
   ]
  },
  {
   "cell_type": "markdown",
   "id": "b1bf814e-33a2-4c3c-87d7-252d3e255b09",
   "metadata": {},
   "source": [
    "---\n",
    "\n",
    "### Exercise 29:\n",
    "Create a NumPy array of random integers and sort it in ascending order.\n",
    " "
   ]
  },
  {
   "cell_type": "code",
   "execution_count": 22,
   "id": "10e37ffe-1615-4ad3-ba7d-218dfa9d2399",
   "metadata": {},
   "outputs": [
    {
     "data": {
      "text/plain": [
       "array([ 5,  5,  5,  9, 11, 13, 15, 17, 18, 19])"
      ]
     },
     "execution_count": 22,
     "metadata": {},
     "output_type": "execute_result"
    }
   ],
   "source": [
    "arra = np.random.randint(5, 20,10)\n",
    "np.sort(arra)"
   ]
  },
  {
   "cell_type": "markdown",
   "id": "2ff7520d-acec-44dd-b88f-e7ca6456fe7d",
   "metadata": {},
   "source": [
    "---\n",
    "\n",
    "### Exercise 30:\n",
    "Find the row-wise and column-wise sum of a 3x3 matrix.\n"
   ]
  },
  {
   "cell_type": "code",
   "execution_count": 25,
   "id": "8008a414-580b-4eb6-8f95-9f6f618ce544",
   "metadata": {},
   "outputs": [
    {
     "name": "stdout",
     "output_type": "stream",
     "text": [
      "[19 17 21]\n",
      "[19 18 20]\n"
     ]
    }
   ],
   "source": [
    "arr = np.random.randint(4,9,size = (3,3))\n",
    "print(np.sum(arr, axis=1))\n",
    "print(np.sum(arr, axis=0))"
   ]
  },
  {
   "cell_type": "markdown",
   "id": "531e0a43-b527-47c9-b07f-913fd6549faf",
   "metadata": {},
   "source": [
    "---\n",
    "\n",
    "### Exercise 31:\n",
    "Generate a 2D NumPy array with random values and normalize it (scale the values between 0 and 1).\n",
    " "
   ]
  },
  {
   "cell_type": "code",
   "execution_count": 28,
   "id": "233c7275-d828-47a8-a6d8-aa1ed8039d51",
   "metadata": {},
   "outputs": [
    {
     "name": "stdout",
     "output_type": "stream",
     "text": [
      "[[-0.46394737 -0.71791272]\n",
      " [-1.          0.        ]]\n"
     ]
    }
   ],
   "source": [
    "arr= np.random.rand(2, 2) * 10\n",
    "normalized_arr=(arr-np.max(arr))/(np.max(arr)-np.min(arr))\n",
    "print(normalized_arr)"
   ]
  },
  {
   "cell_type": "markdown",
   "id": "e2a7f285-f504-48a4-9f51-1743d2c4f98c",
   "metadata": {},
   "source": [
    "---\n",
    "\n",
    "### Exercise 32:\n",
    "Create two NumPy arrays and find the dot product.\n",
    "\n",
    "```python\n",
    "# Exercise 32\n",
    "```"
   ]
  },
  {
   "cell_type": "markdown",
   "id": "21b8d5f4-8086-4f85-bfc5-af6cfdd9a32d",
   "metadata": {},
   "source": [
    "---\n",
    "\n",
    "### Exercise 33:\n",
    "Find the trace of a square NumPy matrix.\n",
    "\n",
    "```python\n",
    "# Exercise 33\n",
    "```"
   ]
  },
  {
   "cell_type": "markdown",
   "id": "620d4979-9109-445b-a34b-463265c5d318",
   "metadata": {},
   "source": [
    "---\n",
    "\n",
    "### Exercise 34:\n",
    "Create a 2D array and swap two rows.\n",
    "\n",
    "```python\n",
    "# Exercise 34\n",
    "```"
   ]
  },
  {
   "cell_type": "markdown",
   "id": "6896bf00-9ce7-4467-9681-cb1662c0f3fa",
   "metadata": {},
   "source": [
    "---\n",
    "\n",
    "### Exercise 35:\n",
    "Create a 1D NumPy array and convert it into a column vector.\n",
    "\n",
    "```python\n",
    "# Exercise 35\n",
    "```"
   ]
  },
  {
   "cell_type": "markdown",
   "id": "174ceaf9-c7be-46fd-a973-44678b71cf45",
   "metadata": {},
   "source": [
    "---\n",
    "\n",
    "### Exercise 36:\n",
    "Find the determinant of a 3x3 matrix.\n",
    "\n",
    "```python\n",
    "# Exercise 36\n",
    "```"
   ]
  },
  {
   "cell_type": "markdown",
   "id": "bc4ddb4e-3831-421d-8e6e-fb5ee723507c",
   "metadata": {},
   "source": [
    "---\n",
    "\n",
    "### Exercise 37:\n",
    "Find the eigenvalues and eigenvectors of a 2x2 matrix.\n",
    "\n",
    "```python\n",
    "# Exercise 37\n",
    "```"
   ]
  },
  {
   "cell_type": "markdown",
   "id": "db20b42c-2273-43a3-bd6d-1defff3cedca",
   "metadata": {},
   "source": [
    "---\n",
    "\n",
    "### Exercise 38:\n",
    "Solve a system of linear equations using NumPy.\n",
    "\n",
    "```python\n",
    "# Exercise 38\n",
    "```"
   ]
  },
  {
   "cell_type": "markdown",
   "id": "a3fbb87d-ef78-4393-be3c-ac0b6af5e540",
   "metadata": {},
   "source": [
    "---\n",
    "\n",
    "### Exercise 39:\n",
    "Add Gaussian noise to a NumPy array.\n",
    "\n",
    "```python\n",
    "# Exercise 39\n",
    "```"
   ]
  },
  {
   "cell_type": "markdown",
   "id": "9d471004-7615-4e2f-8447-7a65ccccb2fb",
   "metadata": {},
   "source": [
    "---\n",
    "\n",
    "### Exercise 40:\n",
    "Create a 4x4 matrix and extract the diagonal elements.\n",
    "\n",
    "```python\n",
    "# Exercise 40\n",
    "```"
   ]
  },
  {
   "cell_type": "markdown",
   "id": "e42f29cd-8c8d-4795-bbd4-fb4edd3ea273",
   "metadata": {},
   "source": [
    "---\n",
    "\n",
    "### Exercise 41:\n",
    "Generate a NumPy array of 100 random values and clip the values to a range between 10 and 50.\n",
    "\n",
    "```python\n",
    "# Exercise 41\n",
    "```\n",
    "\n",
    "---\n",
    "\n",
    "### Exercise 42:\n",
    "Create a 2D NumPy array and replace all negative values with zero.\n",
    "\n",
    "```python\n",
    "# Exercise 42\n",
    "```\n",
    "\n",
    "---\n",
    "\n",
    "### Exercise 43:\n",
    "Find the inner and outer products of two NumPy arrays.\n",
    "\n",
    "```python\n",
    "# Exercise 43\n",
    "```\n",
    "\n",
    "---\n",
    "\n",
    "### Exercise 44:\n",
    "Calculate the pairwise distances between points in a NumPy array.\n",
    "\n",
    "```python\n",
    "# Exercise 44\n",
    "```\n",
    "\n",
    "---\n",
    "\n",
    "### Exercise 45:\n",
    "Create a structured NumPy array with fields for `name`, `age`, and `height`.\n",
    "\n",
    "```python\n",
    "# Exercise 45\n",
    "```\n",
    "\n",
    "---\n",
    "\n",
    "### Exercise 46:\n",
    "Create a 5x5 matrix of random integers and count the occurrences of each unique value.\n",
    "\n",
    "```python\n",
    "# Exercise 46\n",
    "```\n",
    "\n",
    "---\n",
    "\n",
    "### Exercise 47:\n",
    "Generate a random 3x3 NumPy array and subtract the mean of each row from the corresponding row.\n",
    "\n",
    "```python\n",
    "# Exercise 47\n",
    "```\n",
    "\n",
    "---\n",
    "\n",
    "### Exercise 48:\n",
    "Create a NumPy array of random integers and check if any of the values are greater than 50.\n",
    "\n",
    "```python\n",
    "# Exercise 48\n",
    "```\n",
    "\n",
    "---\n",
    "\n",
    "### Exercise 49:\n",
    "Calculate the moving average of a 1D NumPy array.\n",
    "\n",
    "```python\n",
    "# Exercise 49\n",
    "```\n",
    "\n",
    "---\n",
    "\n",
    "### Exercise 50:\n",
    "Find the Pearson correlation coefficient between two NumPy arrays.\n",
    "\n",
    "```python\n",
    "# Exercise 50\n",
    "```\n",
    "\n",
    "---\n",
    "\n",
    "### Exercise 51:\n",
    "Convert a NumPy array of radians to degrees.\n",
    "\n",
    "```python\n",
    "# Exercise 51\n",
    "```\n",
    "\n",
    "---\n",
    "\n",
    "### Exercise 52:\n",
    "Create a random NumPy array and compute its variance and standard deviation.\n",
    "\n",
    "```python\n",
    "# Exercise 52\n",
    "```\n",
    "\n",
    "---\n",
    "\n",
    "### Exercise 53:\n",
    "Create a 2D NumPy array and find the indices of the maximum values along each axis.\n",
    "\n",
    "```python\n",
    "# Exercise 53\n",
    "```\n",
    "\n",
    "---\n",
    "\n",
    "### Exercise 54:\n",
    "Compute the inverse of a 2x2 NumPy matrix.\n",
    "\n",
    "```python\n",
    "# Exercise 54\n",
    "```\n",
    "\n",
    "---\n",
    "\n",
    "### Exercise 55:\n",
    "Create a NumPy array of 10 random values and standardize it (mean 0, variance 1).\n",
    "\n",
    "```python\n",
    "# Exercise 55\n",
    "```\n",
    "\n",
    "---\n",
    "\n",
    "### Exercise 56:\n",
    "Perform element-wise addition and subtraction on two NumPy arrays.\n",
    "\n",
    "```python\n",
    "# Exercise 56\n",
    "```\n",
    "\n",
    "---\n",
    "\n",
    "### Exercise 57:\n",
    "Create a NumPy array of random values and find the maximum element's index.\n",
    "\n",
    "```python\n",
    "# Exercise 57\n",
    "```\n",
    "\n",
    "---\n",
    "\n",
    "### Exercise 58:\n",
    "Create a 3x3 NumPy array and rotate it by 90 degrees.\n",
    "\n",
    "```python\n",
    "# Exercise 58\n",
    "```\n",
    "\n",
    "---\n",
    "\n",
    "### Exercise 59:\n",
    "Compute the Frobenius norm of a matrix.\n",
    "\n",
    "```python\n",
    "# Exercise 59\n",
    "```\n",
    "\n",
    "---\n",
    "\n",
    "### Exercise 60:\n",
    "Create a 3D NumPy array and slice out a subarray.\n",
    "\n",
    "```python\n",
    "# Exercise 60\n",
    "```\n",
    "\n",
    "---"
   ]
  },
  {
   "cell_type": "code",
   "execution_count": null,
   "id": "e8addbac-c711-4d4a-879c-c969f9ea437a",
   "metadata": {},
   "outputs": [],
   "source": []
  }
 ],
 "metadata": {
  "kernelspec": {
   "display_name": "Python 3 (ipykernel)",
   "language": "python",
   "name": "python3"
  },
  "language_info": {
   "codemirror_mode": {
    "name": "ipython",
    "version": 3
   },
   "file_extension": ".py",
   "mimetype": "text/x-python",
   "name": "python",
   "nbconvert_exporter": "python",
   "pygments_lexer": "ipython3",
   "version": "3.12.4"
  }
 },
 "nbformat": 4,
 "nbformat_minor": 5
}
