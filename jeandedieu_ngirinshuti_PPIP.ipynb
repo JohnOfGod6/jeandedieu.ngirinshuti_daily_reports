{
 "cells": [
  {
   "cell_type": "markdown",
   "id": "97a80455-aca0-4598-a517-7d79038ee612",
   "metadata": {},
   "source": [
    "<div style=\"text-align: center; background-color: #f0f8ff; padding: 20px; border-radius: 10px;\">\n",
    "    <h1 style=\"color: #5a90e2;\">Introduction to NumPy</h1>\n",
    "    <h3 style=\"color: #433333;\">A Python Personal Project</h3>\n",
    "</div>"
   ]
  },
  {
   "cell_type": "markdown",
   "id": "bd4d2770-773d-4f19-89b6-7dc0cc72a0c5",
   "metadata": {},
   "source": [
    "# <h1 style=\"color: #2e6c80;\">Introduction to NumPy</h1>\n",
    "\n",
    "NumPy is a powerful Python library widely used for numerical computations. It provides support for large, multi-dimensional arrays and matrices, along with a variety of mathematical functions to operate on these arrays efficiently. NumPy is at the core of almost all scientific computing in Python.\n",
    "\n",
    "## Why Use NumPy?\n",
    "1. **Efficiency**: NumPy arrays are more compact and faster than Python lists, making them the go-to tool for handling large datasets.\n",
    "2. **Convenience**: NumPy comes with many built-in functions to perform operations like sorting, reshaping, or performing mathematical computations quickly.\n",
    "3. **Interoperability**: Many libraries such as pandas, scikit-learn, and TensorFlow rely on NumPy arrays, so understanding it is fundamental to data science and machine learning workflows."
   ]
  },
  {
   "cell_type": "markdown",
   "id": "c2011085-5089-47d5-b644-5c55f515fff3",
   "metadata": {},
   "source": [
    "## Key Concepts of NumPy\n",
    "### 1. Arrays (an array is a structure for storing and retrieving data.)\n",
    "NumPy arrays are similar to Python lists, but they come with additional capabilities. NumPy arrays are homogeneous, meaning that all elements in an array are of the same type. Arrays can also be multi-dimensional.\n",
    "\n",
    "## Differences between lists and NumPy Arrays\n",
    "* An array's size is immutable.  You cannot append, insert or remove elements, like you can with a list.\n",
    "* All of an array's elements must be of the same [data type](https://docs.scipy.org/doc/numpy-1.14.0/user/basics.types.html).\n",
    "* A NumPy array behaves in a Pythonic fashion.  You can `len(my_array)` just like you would assume."
   ]
  },
  {
   "cell_type": "markdown",
   "id": "0639aa3f-92cf-4e24-b3be-c4f7bab744d3",
   "metadata": {},
   "source": [
    "# <h2 style=\"color: #2e6c80;\">Importing NumPy</h2>\n",
    "\n",
    "<p>To use NumPy, you first need to import the <code>numpy</code> package:</p>\n",
    "\n",
    "```python\n",
    "import numpy as np\n"
   ]
  },
  {
   "cell_type": "code",
   "execution_count": 5,
   "id": "470efe0c",
   "metadata": {},
   "outputs": [
    {
     "name": "stdout",
     "output_type": "stream",
     "text": [
      "1D Array: [1 2 3 4 5]\n",
      "2D Array:\n",
      " [[1 2 3]\n",
      " [4 5 6]]\n"
     ]
    }
   ],
   "source": [
    "# Importing NumPy for efficient numerical operations\n",
    "import numpy as np\n",
    "\n",
    "# Creating a 1D NumPy array\n",
    "arr_1d = np.array([1, 2, 3, 4, 5])\n",
    "print('1D Array:', arr_1d)\n",
    "\n",
    "\n",
    "# Creating a 2D NumPy array\n",
    "arr_2d = np.array([[1, 2, 3], [4, 5, 6]])\n",
    "print('2D Array:\\n', arr_2d)\n"
   ]
  },
  {
   "cell_type": "markdown",
   "id": "4909b235-354c-4b37-af45-9918880ec308",
   "metadata": {},
   "source": [
    "## Multidimensional Arrays\n",
    "* The data structure is actually called `ndarray`, representing any **n**umber of **d**imensions\n",
    "* Arrays can have multiple dimensions, you declare them on creation\n",
    "* Dimensions help define what each element in the array represents.  A two dimensional array is just an array of arrays\n",
    "* **Rank** defines how many dimensions an array contains \n",
    "* **Shape** defines the length of each of the array's dimensions\n",
    "* Each dimension is also referred to as an **axis**, and they are zero-indexed. Multiples are called **axes**.\n",
    "* A 2d array is AKA **matrix**."
   ]
  },
  {
   "cell_type": "code",
   "execution_count": 7,
   "id": "795e0dc3-5117-4fa8-888f-2de0498398cb",
   "metadata": {},
   "outputs": [
    {
     "data": {
      "text/plain": [
       "array([[1., 1., 1.],\n",
       "       [1., 1., 1.],\n",
       "       [1., 1., 1.],\n",
       "       [1., 1., 1.],\n",
       "       [1., 1., 1.]])"
      ]
     },
     "execution_count": 7,
     "metadata": {},
     "output_type": "execute_result"
    }
   ],
   "source": [
    "# Create an array of ones\n",
    "ones = np.ones((5, 3))\n",
    "ones"
   ]
  },
  {
   "cell_type": "code",
   "execution_count": 8,
   "id": "8910143a-fc76-4c8a-8e32-c60f5dd06621",
   "metadata": {},
   "outputs": [
    {
     "data": {
      "text/plain": [
       "array([[4.   , 3.286, 3.5  , 4.   ],\n",
       "       [3.2  , 3.8  , 4.   , 4.   ],\n",
       "       [3.96 , 3.92 , 4.   , 4.   ]])"
      ]
     },
     "execution_count": 8,
     "metadata": {},
     "output_type": "execute_result"
    }
   ],
   "source": [
    "students_gpas = np.array([\n",
    "    [4.0, 3.286, 3.5, 4.0],\n",
    "    [3.2, 3.8, 4.0, 4.0],\n",
    "    [3.96, 3.92, 4.0, 4.0]\n",
    "])\n",
    "students_gpas"
   ]
  },
  {
   "cell_type": "code",
   "execution_count": 9,
   "id": "069af989-593c-4187-a97e-b20ca4b84ed2",
   "metadata": {},
   "outputs": [
    {
     "data": {
      "text/plain": [
       "2"
      ]
     },
     "execution_count": 9,
     "metadata": {},
     "output_type": "execute_result"
    }
   ],
   "source": [
    "# Check the number of dimensions in the array\n",
    "students_gpas.ndim\n"
   ]
  },
  {
   "cell_type": "code",
   "execution_count": 10,
   "id": "8c1c7121-a5d9-46d9-9298-71e6f0315a20",
   "metadata": {},
   "outputs": [
    {
     "data": {
      "text/plain": [
       "(3, 4)"
      ]
     },
     "execution_count": 10,
     "metadata": {},
     "output_type": "execute_result"
    }
   ],
   "source": [
    "# Get the shape (dimensions) of the array\n",
    "students_gpas.shape"
   ]
  },
  {
   "cell_type": "code",
   "execution_count": 11,
   "id": "857ac2ca-21f7-48db-8eb7-de3ac3fe39d7",
   "metadata": {},
   "outputs": [
    {
     "data": {
      "text/plain": [
       "12"
      ]
     },
     "execution_count": 11,
     "metadata": {},
     "output_type": "execute_result"
    }
   ],
   "source": [
    "# Get the total number of elements in the array\n",
    "students_gpas.size"
   ]
  },
  {
   "cell_type": "code",
   "execution_count": 12,
   "id": "0e030c82-329e-44b4-bb56-cf4fa257bf76",
   "metadata": {},
   "outputs": [
    {
     "data": {
      "text/plain": [
       "3"
      ]
     },
     "execution_count": 12,
     "metadata": {},
     "output_type": "execute_result"
    }
   ],
   "source": [
    "# Get the number of rows in the array (top-level elements)\n",
    "len(students_gpas)"
   ]
  },
  {
   "cell_type": "code",
   "execution_count": 13,
   "id": "1026f7d9-28a4-4a2b-ac4b-28864504fe75",
   "metadata": {},
   "outputs": [
    {
     "data": {
      "text/plain": [
       "8"
      ]
     },
     "execution_count": 13,
     "metadata": {},
     "output_type": "execute_result"
    }
   ],
   "source": [
    "# Get the size (in bytes) of one element in the array\n",
    "students_gpas.itemsize"
   ]
  },
  {
   "cell_type": "code",
   "execution_count": 14,
   "id": "17aeaeaf-b873-46a0-9dfe-fa29c0ba314b",
   "metadata": {},
   "outputs": [
    {
     "data": {
      "text/plain": [
       "96"
      ]
     },
     "execution_count": 14,
     "metadata": {},
     "output_type": "execute_result"
    }
   ],
   "source": [
    "# Calculate the total memory used by the array (in bytes)\n",
    "students_gpas.itemsize * students_gpas.size"
   ]
  },
  {
   "cell_type": "code",
   "execution_count": 15,
   "id": "8da43080-cf3b-4184-b264-cabee3b8c166",
   "metadata": {},
   "outputs": [
    {
     "name": "stdout",
     "output_type": "stream",
     "text": [
      "Variable        Type       Data/Info\n",
      "------------------------------------\n",
      "arr_1d          ndarray    5: 5 elems, type `int32`, 20 bytes\n",
      "arr_2d          ndarray    2x3: 6 elems, type `int32`, 24 bytes\n",
      "ones            ndarray    5x3: 15 elems, type `float64`, 120 bytes\n",
      "students_gpas   ndarray    3x4: 12 elems, type `float64`, 96 bytes\n"
     ]
    }
   ],
   "source": [
    "# List all ndarray variables in the current environment with details\n",
    "%whos ndarray"
   ]
  },
  {
   "cell_type": "markdown",
   "id": "c7751a88",
   "metadata": {},
   "source": [
    "### 2. Array Shape and Reshaping\n",
    "The shape of a NumPy array refers to its dimensions. For example, a 2D array has two axes: rows and columns. You can check the shape of an array and reshape it if needed.\n",
    "\n"
   ]
  },
  {
   "cell_type": "code",
   "execution_count": 17,
   "id": "974537e7",
   "metadata": {},
   "outputs": [
    {
     "name": "stdout",
     "output_type": "stream",
     "text": [
      "Shape of 2D Array: (2, 3)\n",
      "Reshaped Array:\n",
      " [[1 2]\n",
      " [3 4]\n",
      " [5 6]]\n"
     ]
    }
   ],
   "source": [
    "# Checking the shape of the 2D array\n",
    "print('Shape of 2D Array:', arr_2d.shape) \n",
    "\n",
    "# Reshaping the array into a different shape\n",
    "reshaped_arr = arr_2d.reshape(3, 2)\n",
    "print('Reshaped Array:\\n', reshaped_arr)\n"
   ]
  },
  {
   "cell_type": "markdown",
   "id": "8776a046-4728-4ca1-8be8-6273624f32e1",
   "metadata": {},
   "source": [
    "## How to Convert a 1D Array into a 2D Array (Adding a New Axis to an Array)\n",
    "\n",
    "You can use `np.newaxis` and `np.expand_dims` to increase the dimensions of your existing array.\n",
    "\n",
    "- Using `np.newaxis` will increase the dimensions of your array by one dimension when used once. \n",
    "  - For example, a 1D array will become a 2D array, a 2D array will become a 3D array, and so on.\n",
    "\n",
    "### Example:"
   ]
  },
  {
   "cell_type": "code",
   "execution_count": 19,
   "id": "c5cdd51a-0cb5-4159-b58d-586c690f94ee",
   "metadata": {},
   "outputs": [
    {
     "name": "stdout",
     "output_type": "stream",
     "text": [
      "(4,)\n"
     ]
    }
   ],
   "source": [
    "arr = np.array([1, 2, 3, 4])\n",
    "print(arr.shape)  "
   ]
  },
  {
   "cell_type": "code",
   "execution_count": 20,
   "id": "a33b4668-4786-4fee-9515-9f53eb11795c",
   "metadata": {},
   "outputs": [
    {
     "data": {
      "text/plain": [
       "(1, 4)"
      ]
     },
     "execution_count": 20,
     "metadata": {},
     "output_type": "execute_result"
    }
   ],
   "source": [
    "arr1= arr[np.newaxis, :]\n",
    "arr1.shape"
   ]
  },
  {
   "cell_type": "code",
   "execution_count": 21,
   "id": "179686c6-7eea-4df8-9443-a68f8fdd6dda",
   "metadata": {},
   "outputs": [
    {
     "data": {
      "text/plain": [
       "(4, 1)"
      ]
     },
     "execution_count": 21,
     "metadata": {},
     "output_type": "execute_result"
    }
   ],
   "source": [
    "arr2 = np.expand_dims(arr, axis=1)\n",
    "arr2.shape"
   ]
  },
  {
   "cell_type": "markdown",
   "id": "1aabad9b",
   "metadata": {},
   "source": [
    "### 3. Mathematical Operations\n",
    "NumPy supports element-wise operations on arrays, making it simple to perform complex calculations across entire datasets.\n"
   ]
  },
  {
   "cell_type": "code",
   "execution_count": 23,
   "id": "e1dc8c49",
   "metadata": {},
   "outputs": [
    {
     "name": "stdout",
     "output_type": "stream",
     "text": [
      "Array + 5: [ 6  7  8  9 10]\n",
      "Array * 2: [ 2  4  6  8 10]\n",
      "Mean of array: 3.0\n",
      "Array - 2: [-1  0  1  2  3]\n",
      "Array / 2: [0.5 1.  1.5 2.  2.5]\n",
      "Sum of array: 15\n",
      "Max value in array: 5\n",
      "Min value in array: 1\n",
      "Standard deviation of array: 1.4142135623730951\n",
      "Array squared: [ 1  4  9 16 25]\n",
      "Square root of array: [1.         1.41421356 1.73205081 2.         2.23606798]\n"
     ]
    }
   ],
   "source": [
    "# Basic Mathematical Operations\n",
    "arr = np.array([1, 2, 3, 4, 5])\n",
    "\n",
    "# Adding a scalar value to each element\n",
    "print('Array + 5:', arr + 5)\n",
    "\n",
    "# Element-wise multiplication\n",
    "print('Array * 2:', arr * 2)\n",
    "\n",
    "# Finding the mean of the array\n",
    "print('Mean of array:', np.mean(arr))\n",
    "\n",
    "# Element-wise subtraction\n",
    "print('Array - 2:', arr - 2)\n",
    "\n",
    "# Element-wise division\n",
    "print('Array / 2:', arr / 2)\n",
    "\n",
    "# Finding the sum of the array\n",
    "print('Sum of array:', np.sum(arr))\n",
    "\n",
    "# Finding the maximum value in the array\n",
    "print('Max value in array:', np.max(arr))\n",
    "\n",
    "# Finding the minimum value in the array\n",
    "print('Min value in array:', np.min(arr))\n",
    "\n",
    "# Calculating the standard deviation\n",
    "print('Standard deviation of array:', np.std(arr))\n",
    "\n",
    "# Element-wise exponentiation\n",
    "print('Array squared:', arr ** 2)\n",
    "\n",
    "# Element-wise square root\n",
    "print('Square root of array:', np.sqrt(arr))\n"
   ]
  },
  {
   "cell_type": "markdown",
   "id": "5de194d0",
   "metadata": {},
   "source": [
    "### 4. Broadcasting\n",
    "Broadcasting is a powerful feature in NumPy that allows operations on arrays of different shapes. NumPy automatically stretches the dimensions to perform the operation.\n",
    "\n"
   ]
  },
  {
   "cell_type": "code",
   "execution_count": 25,
   "id": "9257ea08-79aa-4cab-a895-92bcca9f399e",
   "metadata": {},
   "outputs": [
    {
     "name": "stdout",
     "output_type": "stream",
     "text": [
      "Broadcasting Result 1:\n",
      " [[11 12 13]\n",
      " [21 22 23]\n",
      " [31 32 33]]\n"
     ]
    }
   ],
   "source": [
    " arr_broad = np.array([1, 2, 3])\n",
    "arr_2d_broad = np.array([[10], [20], [30]])\n",
    "\n",
    "# Adding a 1D array to a 2D array\n",
    "result_broad = arr_2d_broad + arr_broad\n",
    "print('Broadcasting Result 1:\\n', result_broad)"
   ]
  },
  {
   "cell_type": "code",
   "execution_count": 26,
   "id": "b1424ff1-cff1-4c1d-a776-121c2336b368",
   "metadata": {},
   "outputs": [
    {
     "name": "stdout",
     "output_type": "stream",
     "text": [
      "Broadcasting Result 2:\n",
      " [[ 45  40  35]\n",
      " [ 95  90  85]\n",
      " [145 140 135]]\n"
     ]
    }
   ],
   "source": [
    "arr_subtract = np.array([5, 10, 15])\n",
    "arr_2d_subtract = np.array([[50], [100], [150]])\n",
    "\n",
    "# Subtracting a 1D array from a 2D array\n",
    "result_subtract = arr_2d_subtract - arr_subtract\n",
    "print('Broadcasting Result 2:\\n', result_subtract)"
   ]
  },
  {
   "cell_type": "code",
   "execution_count": 27,
   "id": "1920159b-ef5d-48a7-ad08-12052f0c199c",
   "metadata": {},
   "outputs": [
    {
     "name": "stdout",
     "output_type": "stream",
     "text": [
      "Broadcasting Result 3:\n",
      " [[[ 2  3  4]\n",
      "  [ 4  6  8]]\n",
      "\n",
      " [[ 6  9 12]\n",
      "  [ 8 12 16]]\n",
      "\n",
      " [[10 15 20]\n",
      "  [12 18 24]]]\n"
     ]
    }
   ],
   "source": [
    "arr_multiply = np.array([2, 3, 4])\n",
    "arr_3d_multiply = np.array([[[1], [2]], [[3], [4]], [[5], [6]]])  # Shape (3, 2, 1)\n",
    "\n",
    "# Multiplying a 1D array with a 3D array\n",
    "result_multiply = arr_3d_multiply * arr_multiply\n",
    "print('Broadcasting Result 3:\\n', result_multiply)"
   ]
  },
  {
   "cell_type": "code",
   "execution_count": 28,
   "id": "663a68a5-cac8-46cd-9ddf-76dace1d5b41",
   "metadata": {},
   "outputs": [
    {
     "name": "stdout",
     "output_type": "stream",
     "text": [
      "Broadcasting Result 4:\n",
      " [[15 25 35]\n",
      " [45 55 65]]\n"
     ]
    }
   ],
   "source": [
    "arr_scalar = np.array([[10, 20, 30], [40, 50, 60]])\n",
    "scalar_value = 5\n",
    "\n",
    "# Adding a scalar value to each element in the 2D array\n",
    "result_scalar = arr_scalar + scalar_value\n",
    "print('Broadcasting Result 4:\\n', result_scalar)"
   ]
  },
  {
   "cell_type": "code",
   "execution_count": 29,
   "id": "7e821635-e354-45bc-a590-35e95bd3134a",
   "metadata": {},
   "outputs": [
    {
     "name": "stdout",
     "output_type": "stream",
     "text": [
      "Broadcasting Result 5:\n",
      " [[11 21]\n",
      " [32 42]\n",
      " [53 63]]\n"
     ]
    }
   ],
   "source": [
    "arr_broad_2d = np.array([1, 2, 3])         # Shape (3,)\n",
    "arr_2d_broad_2d = np.array([[10, 20], [30, 40], [50, 60]])  # Shape (3, 2)\n",
    "\n",
    "# Adding a 1D array to a 2D array\n",
    "result_broad_2d = arr_2d_broad_2d + arr_broad_2d[:, np.newaxis]\n",
    "print('Broadcasting Result 5:\\n', result_broad_2d)"
   ]
  },
  {
   "cell_type": "markdown",
   "id": "5cd49e26",
   "metadata": {},
   "source": [
    "### 5. Slicing and Indexing\n",
    "You can access and modify parts of NumPy arrays through slicing and indexing, similar to Python lists.\n",
    "\n"
   ]
  },
  {
   "cell_type": "code",
   "execution_count": 31,
   "id": "3d365b2e-f4f7-40ba-92a6-2da021372439",
   "metadata": {},
   "outputs": [
    {
     "name": "stdout",
     "output_type": "stream",
     "text": [
      "Sliced Array: [8 3 4]\n",
      "First element: 1\n",
      "Last element: 4\n",
      "Elements from index 1: [8 3 4]\n",
      "Elements up to index 2: [1 8 3]\n",
      "Reversed Array: [4 3 8 1]\n"
     ]
    }
   ],
   "source": [
    "import numpy as np\n",
    "\n",
    "# 1D Array Example\n",
    "arr3 = np.array([1, 8, 3, 4])\n",
    "\n",
    "# Slicing a 1D array\n",
    "slice_arr = arr3[1:4]  # Elements from index 1 to 3\n",
    "print('Sliced Array:', slice_arr)  # Output: [8, 3, 4]\n",
    "\n",
    "# Additional examples for 1D array slicing\n",
    "print('First element:', arr3[0])          # Accessing the first element\n",
    "print('Last element:', arr3[-1])          # Accessing the last element\n",
    "print('Elements from index 1:', arr3[1:])  # Slicing from index 1 to the end\n",
    "print('Elements up to index 2:', arr3[:3]) # Slicing from the start to index 2\n",
    "print('Reversed Array:', arr3[::-1])      # Reversing the array"
   ]
  },
  {
   "cell_type": "code",
   "execution_count": 32,
   "id": "5b716a7c-5687-40d2-817e-c38d1367e0a3",
   "metadata": {},
   "outputs": [
    {
     "name": "stdout",
     "output_type": "stream",
     "text": [
      "Element at (1, 2): 5\n",
      "Element at (0, 1): 2\n",
      "First row: [1 2 3]\n",
      "Second column: [2 8]\n",
      "All rows, last column: [3 5]\n",
      "Slicing rows 0 to 1: [[1 2 3]\n",
      " [4 8 5]]\n",
      "Slicing the last row: [[4 8 5]]\n",
      "Sliced elements (first two rows, columns 1 to 2):\n",
      " [[2 3]\n",
      " [8 5]]\n"
     ]
    }
   ],
   "source": [
    "# 2D Array Example\n",
    "arr_2d1 = np.array([[1, 2, 3], [4, 8, 5]])\n",
    "\n",
    "# Indexing a 2D array\n",
    "element = arr_2d1[1, 2]  # Accessing element at row 1, column 2\n",
    "print('Element at (1, 2):', element)  # Output: 5\n",
    "\n",
    "# Additional examples for 2D array indexing and slicing\n",
    "print('Element at (0, 1):', arr_2d1[0, 1])  # Accessing element at row 0, column 1\n",
    "print('First row:', arr_2d1[0])             # Accessing the first row\n",
    "print('Second column:', arr_2d1[:, 1])      # Accessing the second column using slicing\n",
    "print('All rows, last column:', arr_2d1[:, -1])  # Accessing all rows, last column\n",
    "print('Slicing rows 0 to 1:', arr_2d1[0:2])  # Slicing rows 0 to 1 (inclusive)\n",
    "print('Slicing the last row:', arr_2d1[-1:]) # Slicing the last row\n",
    "\n",
    "# Slicing specific elements from a 2D array\n",
    "sliced_elements = arr_2d1[0:2, 1:3]  # Slicing the first two rows and columns 1 to 2\n",
    "print('Sliced elements (first two rows, columns 1 to 2):\\n', sliced_elements)"
   ]
  },
  {
   "cell_type": "markdown",
   "id": "df1183fd",
   "metadata": {},
   "source": [
    "## Conclusion\n",
    "\n",
    "NumPy is a versatile and essential library for numerical computing. Its array structure, built-in mathematical functions, and support for broadcasting and efficient slicing make it ideal for handling large datasets in scientific computing, data analysis, and machine learning. Understanding NumPy is crucial for working effectively with other data science libraries.\n"
   ]
  },
  {
   "cell_type": "code",
   "execution_count": null,
   "id": "c21c38ee-0375-4a69-a207-a7f250f930c8",
   "metadata": {},
   "outputs": [],
   "source": []
  },
  {
   "cell_type": "code",
   "execution_count": null,
   "id": "e2d4ce9d-1fc3-4947-8177-05b47601cf7b",
   "metadata": {},
   "outputs": [],
   "source": []
  }
 ],
 "metadata": {
  "kernelspec": {
   "display_name": "Python 3 (ipykernel)",
   "language": "python",
   "name": "python3"
  },
  "language_info": {
   "codemirror_mode": {
    "name": "ipython",
    "version": 3
   },
   "file_extension": ".py",
   "mimetype": "text/x-python",
   "name": "python",
   "nbconvert_exporter": "python",
   "pygments_lexer": "ipython3",
   "version": "3.12.4"
  }
 },
 "nbformat": 4,
 "nbformat_minor": 5
}
